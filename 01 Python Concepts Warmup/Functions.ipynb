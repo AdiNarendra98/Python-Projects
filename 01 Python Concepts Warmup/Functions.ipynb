{
 "cells": [
  {
   "cell_type": "code",
   "execution_count": 3,
   "id": "fa2cbe51",
   "metadata": {},
   "outputs": [],
   "source": [
    "lst=[1,2,3,4,5,6,7,8,9,10]"
   ]
  },
  {
   "cell_type": "code",
   "execution_count": 23,
   "id": "98db8f98",
   "metadata": {},
   "outputs": [
    {
     "name": "stdout",
     "output_type": "stream",
     "text": [
      "5 5\n"
     ]
    }
   ],
   "source": [
    "\n",
    "even_sum=0\n",
    "odd_sum=0\n",
    "for i in lst:\n",
    "    if i%2==0:\n",
    "        even_sum=even_sum+1\n",
    "    else:\n",
    "        odd_sum=odd_sum+1\n",
    "print(even_sum,odd_sum)"
   ]
  },
  {
   "cell_type": "code",
   "execution_count": 33,
   "id": "a262a0fa",
   "metadata": {},
   "outputs": [],
   "source": [
    "def iseven():\n",
    "    for i in range(0,10):\n",
    "        if i%2==0:\n",
    "            print(\"even\")\n",
    "        else:\n",
    "            print(\"ODD\")\n",
    "    return 0       "
   ]
  },
  {
   "cell_type": "code",
   "execution_count": 34,
   "id": "f0a62a2e",
   "metadata": {},
   "outputs": [
    {
     "name": "stdout",
     "output_type": "stream",
     "text": [
      "even\n",
      "ODD\n",
      "even\n",
      "ODD\n",
      "even\n",
      "ODD\n",
      "even\n",
      "ODD\n",
      "even\n",
      "ODD\n"
     ]
    },
    {
     "data": {
      "text/plain": [
       "0"
      ]
     },
     "execution_count": 34,
     "metadata": {},
     "output_type": "execute_result"
    }
   ],
   "source": [
    "iseven()"
   ]
  },
  {
   "cell_type": "code",
   "execution_count": 42,
   "id": "2c3c2ceb",
   "metadata": {},
   "outputs": [],
   "source": [
    "adi=(1,2,3)\n",
    "input_num=list(adi)"
   ]
  },
  {
   "cell_type": "code",
   "execution_count": 44,
   "id": "f0cb59dd",
   "metadata": {},
   "outputs": [
    {
     "data": {
      "text/plain": [
       "[1, 2, 3]"
      ]
     },
     "execution_count": 44,
     "metadata": {},
     "output_type": "execute_result"
    }
   ],
   "source": [
    "input_num"
   ]
  },
  {
   "cell_type": "code",
   "execution_count": 2,
   "id": "4f15e815",
   "metadata": {},
   "outputs": [],
   "source": [
    "def hworld():\n",
    "    print(\"hw\")"
   ]
  },
  {
   "cell_type": "code",
   "execution_count": 3,
   "id": "3af7ed8e",
   "metadata": {},
   "outputs": [
    {
     "name": "stdout",
     "output_type": "stream",
     "text": [
      "hw\n"
     ]
    }
   ],
   "source": [
    "hworld()"
   ]
  },
  {
   "cell_type": "code",
   "execution_count": 8,
   "id": "663d494a",
   "metadata": {},
   "outputs": [],
   "source": [
    "def hello(name=\"Adi\",age=28):\n",
    "    print(\"myself {} and i am {} yrs old\".format(name,age))"
   ]
  },
  {
   "cell_type": "code",
   "execution_count": 9,
   "id": "891141a8",
   "metadata": {},
   "outputs": [
    {
     "name": "stdout",
     "output_type": "stream",
     "text": [
      "myself Adi and i am 28 yrs old\n"
     ]
    }
   ],
   "source": [
    "hello()"
   ]
  },
  {
   "cell_type": "code",
   "execution_count": 10,
   "id": "9a492b2e",
   "metadata": {},
   "outputs": [],
   "source": [
    "def addition(a,b):\n",
    "    return a+b"
   ]
  },
  {
   "cell_type": "code",
   "execution_count": 11,
   "id": "b3c87ddf",
   "metadata": {},
   "outputs": [
    {
     "data": {
      "text/plain": [
       "3"
      ]
     },
     "execution_count": 11,
     "metadata": {},
     "output_type": "execute_result"
    }
   ],
   "source": [
    "addition(1,2)"
   ]
  },
  {
   "cell_type": "code",
   "execution_count": 12,
   "id": "489d5092",
   "metadata": {},
   "outputs": [],
   "source": [
    "add=lambda a,b:a+b"
   ]
  },
  {
   "cell_type": "code",
   "execution_count": 13,
   "id": "1dc6dfb0",
   "metadata": {},
   "outputs": [
    {
     "data": {
      "text/plain": [
       "3"
      ]
     },
     "execution_count": 13,
     "metadata": {},
     "output_type": "execute_result"
    }
   ],
   "source": [
    "add(1,2)"
   ]
  },
  {
   "cell_type": "code",
   "execution_count": 30,
   "id": "f37583b8",
   "metadata": {},
   "outputs": [],
   "source": [
    "def iseven(num):\n",
    "    if num%2==0:\n",
    "        return True\n",
    "    else:\n",
    "        return False\n",
    "\n",
    "    "
   ]
  },
  {
   "cell_type": "code",
   "execution_count": 31,
   "id": "ef8c729e",
   "metadata": {},
   "outputs": [
    {
     "data": {
      "text/plain": [
       "True"
      ]
     },
     "execution_count": 31,
     "metadata": {},
     "output_type": "execute_result"
    }
   ],
   "source": [
    "iseven(num=2)"
   ]
  },
  {
   "cell_type": "code",
   "execution_count": 37,
   "id": "fd473b5e",
   "metadata": {},
   "outputs": [
    {
     "data": {
      "text/plain": [
       "10"
      ]
     },
     "execution_count": 37,
     "metadata": {},
     "output_type": "execute_result"
    }
   ],
   "source": [
    "from functools import reduce\n",
    "first=[1,2,3,4]\n",
    "reduce(lambda a,b:a+b,first)"
   ]
  },
  {
   "cell_type": "code",
   "execution_count": 38,
   "id": "6d4a1b7a",
   "metadata": {},
   "outputs": [],
   "source": [
    "x=[]\n",
    "def sqrt(first):\n",
    "    for i in first:\n",
    "         x.append(i*i)\n",
    "    return x\n",
    "        \n",
    "   "
   ]
  },
  {
   "cell_type": "code",
   "execution_count": 39,
   "id": "818a38d2",
   "metadata": {},
   "outputs": [
    {
     "data": {
      "text/plain": [
       "[1, 4, 9, 16]"
      ]
     },
     "execution_count": 39,
     "metadata": {},
     "output_type": "execute_result"
    }
   ],
   "source": [
    "sqrt(first)"
   ]
  },
  {
   "cell_type": "code",
   "execution_count": 40,
   "id": "25d917dd",
   "metadata": {},
   "outputs": [
    {
     "data": {
      "text/plain": [
       "[1, 4, 9, 16]"
      ]
     },
     "execution_count": 40,
     "metadata": {},
     "output_type": "execute_result"
    }
   ],
   "source": [
    "[i*i for i in first]"
   ]
  },
  {
   "cell_type": "code",
   "execution_count": 41,
   "id": "b4bbca92",
   "metadata": {},
   "outputs": [],
   "source": [
    "def greet(name):\n",
    "    return \"hello {}\".format(name)"
   ]
  },
  {
   "cell_type": "code",
   "execution_count": 43,
   "id": "d8673821",
   "metadata": {},
   "outputs": [
    {
     "data": {
      "text/plain": [
       "'hello adi'"
      ]
     },
     "execution_count": 43,
     "metadata": {},
     "output_type": "execute_result"
    }
   ],
   "source": [
    "greet(name=\"adi\")"
   ]
  },
  {
   "cell_type": "code",
   "execution_count": 49,
   "id": "0deab5a7",
   "metadata": {},
   "outputs": [],
   "source": [
    "first=[1,2,3,4]\n",
    "a=iter(first)"
   ]
  },
  {
   "cell_type": "code",
   "execution_count": 46,
   "id": "807c0309",
   "metadata": {},
   "outputs": [
    {
     "data": {
      "text/plain": [
       "1"
      ]
     },
     "execution_count": 46,
     "metadata": {},
     "output_type": "execute_result"
    }
   ],
   "source": [
    "next(a)"
   ]
  },
  {
   "cell_type": "code",
   "execution_count": 50,
   "id": "00bf2abc",
   "metadata": {},
   "outputs": [
    {
     "name": "stdout",
     "output_type": "stream",
     "text": [
      "1\n",
      "2\n",
      "3\n",
      "4\n"
     ]
    }
   ],
   "source": [
    "for i in a:\n",
    "    print(i)"
   ]
  },
  {
   "cell_type": "code",
   "execution_count": 51,
   "id": "62665eb1",
   "metadata": {},
   "outputs": [],
   "source": [
    "def sqr(n):\n",
    "    for i in range(n):\n",
    "        yield i**2"
   ]
  },
  {
   "cell_type": "code",
   "execution_count": 52,
   "id": "9fd10bb7",
   "metadata": {},
   "outputs": [
    {
     "data": {
      "text/plain": [
       "<generator object sqr at 0x7f91d80a7660>"
      ]
     },
     "execution_count": 52,
     "metadata": {},
     "output_type": "execute_result"
    }
   ],
   "source": [
    "a=square(n)"
   ]
  },
  {
   "cell_type": "code",
   "execution_count": null,
   "id": "e439dfde",
   "metadata": {},
   "outputs": [],
   "source": []
  }
 ],
 "metadata": {
  "kernelspec": {
   "display_name": "Python 3",
   "language": "python",
   "name": "python3"
  },
  "language_info": {
   "codemirror_mode": {
    "name": "ipython",
    "version": 3
   },
   "file_extension": ".py",
   "mimetype": "text/x-python",
   "name": "python",
   "nbconvert_exporter": "python",
   "pygments_lexer": "ipython3",
   "version": "3.8.8"
  }
 },
 "nbformat": 4,
 "nbformat_minor": 5
}
