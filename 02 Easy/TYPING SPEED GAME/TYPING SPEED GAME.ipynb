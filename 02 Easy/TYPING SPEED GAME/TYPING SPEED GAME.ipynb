{
 "cells": [
  {
   "cell_type": "code",
   "execution_count": 5,
   "id": "3bd0ab51",
   "metadata": {},
   "outputs": [
    {
     "name": "stdout",
     "output_type": "stream",
     "text": [
      "Type this:- This is a typing speed game.It is very fun to play and it will be played by 1 player who is the user  \n",
      "Press Enter to Check your Speed!!!jlj\n",
      "knk\n",
      "Total Time Elapsed: <built-in function time> Seconds\n",
      "Avg Typing Speed: <function speed at 0x7fb848049af0> Words/minute\n",
      "Total Errors in Typing: 0 Errors\n"
     ]
    }
   ],
   "source": [
    "from time import time\n",
    "\n",
    "def tperror(prompt):\n",
    "    global inwords\n",
    "    words=prompt.split()\n",
    "    errors=0\n",
    "    \n",
    "    for i in range(len(inwords)):\n",
    "        if i in (0,len(inwords)-1):\n",
    "            if inwords[i]==words[i]:\n",
    "                continue\n",
    "            else:\n",
    "                errors=errors+1\n",
    "        else:\n",
    "            if inwords[i]== words[i]:\n",
    "                if (inwords[i+1]== words[i+1])&(inwords[i-1]== words[i-1]):\n",
    "                    continue\n",
    "                else:\n",
    "                    errors+=1\n",
    "            else:\n",
    "                errors+=1\n",
    "    return errors\n",
    "\n",
    "#Now to Calculate Speed(WPM):\n",
    "def speed(inprompt,stime,etime):\n",
    "    global time\n",
    "    global inwords\n",
    "    \n",
    "    inwords=inprompt.split()\n",
    "    towrds=len(inwords)\n",
    "    speed=twords/time\n",
    "    return speed\n",
    "                                            \n",
    "#Calculate Elapsed Time\n",
    "def elpasedtime(stime,etime):\n",
    "    time= etime - stime\n",
    "    return time\n",
    "\n",
    "if __name__=='__main__':\n",
    "    prompt=\"This is a typing speed game.It is very fun to play and it will be played by 1 player who is the user \"\n",
    "    print(\"Type this:-\",prompt,\"\")\n",
    "    \n",
    "    input(\"Press Enter to Check your Speed!!!\")\n",
    "    \n",
    "    stime=time()\n",
    "    inprompt=input()\n",
    "    errors=tperror(prompt)\n",
    "    \n",
    "    print(\"Total Time Elapsed:\",time,\"Seconds\")\n",
    "    print(\"Avg Typing Speed:\",speed,\"Words/minute\") \n",
    "    print(\"Total Errors in Typing:\",errors,\"Errors\")                                             \n",
    "                                \n",
    "    \n",
    "    \n",
    "    \n",
    "\n",
    "                                                \n",
    "          \n",
    "                                                \n",
    "                                            \n",
    "    "
   ]
  },
  {
   "cell_type": "code",
   "execution_count": null,
   "id": "ed768075",
   "metadata": {},
   "outputs": [],
   "source": []
  }
 ],
 "metadata": {
  "kernelspec": {
   "display_name": "Python 3",
   "language": "python",
   "name": "python3"
  },
  "language_info": {
   "codemirror_mode": {
    "name": "ipython",
    "version": 3
   },
   "file_extension": ".py",
   "mimetype": "text/x-python",
   "name": "python",
   "nbconvert_exporter": "python",
   "pygments_lexer": "ipython3",
   "version": "3.8.8"
  }
 },
 "nbformat": 4,
 "nbformat_minor": 5
}
