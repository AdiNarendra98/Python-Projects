{
 "cells": [
  {
   "cell_type": "code",
   "execution_count": 8,
   "id": "6c1b2010",
   "metadata": {},
   "outputs": [
    {
     "data": {
      "text/plain": [
       "32512"
      ]
     },
     "execution_count": 8,
     "metadata": {},
     "output_type": "execute_result"
    }
   ],
   "source": [
    "#This program takes a text file as input and turns into Speech in a Mp3 file.\n",
    "from gtts import gTTS #Text to Speech Library\n",
    "import os #Library to Check file and Save\n",
    "abc=open(\"Input.txt\") #Input Text File \n",
    "text=abc.read() #To read text file\n",
    "language=\"en\" #Language of the text file\n",
    "obj=gTTS(text=text,lang=language,slow=False) #Slow is speed of the Voice.\n",
    "obj.save(\"sample1.mp3\")\n",
    "os.system(\"sample1.mp3\")"
   ]
  },
  {
   "cell_type": "code",
   "execution_count": 7,
   "id": "2c6483e1",
   "metadata": {},
   "outputs": [
    {
     "name": "stdout",
     "output_type": "stream",
     "text": [
      "Write your Input Text here:hi\n"
     ]
    }
   ],
   "source": [
    "#Takes text input from user and converts it to speech in Mp3 format\n",
    "from gtts import gTTS #Text to Speech Library\n",
    "text=str(input(\"Write your Input Text here:\")) #Takes text Input\n",
    "language=\"en\" #Language of the text file\n",
    "obj=gTTS(text=text,lang=language,slow=False) #Slow is speed of the Voice.\n",
    "obj.save(\"sample3.mp3\") #Name of Mp3 file."
   ]
  },
  {
   "cell_type": "code",
   "execution_count": null,
   "id": "d2e7a9e3",
   "metadata": {},
   "outputs": [],
   "source": []
  }
 ],
 "metadata": {
  "kernelspec": {
   "display_name": "Python 3",
   "language": "python",
   "name": "python3"
  }
 },
 "nbformat": 4,
 "nbformat_minor": 5
}
