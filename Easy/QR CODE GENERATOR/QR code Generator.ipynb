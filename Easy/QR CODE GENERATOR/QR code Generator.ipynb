{
 "cells": [
  {
   "cell_type": "code",
   "execution_count": 5,
   "id": "53dfe76e",
   "metadata": {},
   "outputs": [
    {
     "name": "stdout",
     "output_type": "stream",
     "text": [
      "Enter a Link:https://www.youtube.com/watch?v=8MN2bxMiB9A\n",
      "QR CODE SAVED\n"
     ]
    }
   ],
   "source": [
    "import qrcode\n",
    "import image\n",
    "qr=qrcode.QRCode(\n",
    "version=15,\n",
    "box_size=10,\n",
    "border=5)\n",
    "data=str(input(\"Enter a Link:\"))\n",
    "qr.add_data(data)\n",
    "qr.make(fit=True)\n",
    "img=qr.make_image(fill=\"black\",back_color=\"white\")\n",
    "img.save(\"QR CODE\")\n",
    "print(\"QR CODE SAVED\")\n",
    "\n",
    "\n"
   ]
  },
  {
   "cell_type": "code",
   "execution_count": null,
   "id": "8ca77391",
   "metadata": {},
   "outputs": [],
   "source": []
  }
 ],
 "metadata": {
  "kernelspec": {
   "display_name": "Python 3",
   "language": "python",
   "name": "python3"
  },
  "language_info": {
   "codemirror_mode": {
    "name": "ipython",
    "version": 3
   },
   "file_extension": ".py",
   "mimetype": "text/x-python",
   "name": "python",
   "nbconvert_exporter": "python",
   "pygments_lexer": "ipython3",
   "version": "3.8.8"
  }
 },
 "nbformat": 4,
 "nbformat_minor": 5
}
