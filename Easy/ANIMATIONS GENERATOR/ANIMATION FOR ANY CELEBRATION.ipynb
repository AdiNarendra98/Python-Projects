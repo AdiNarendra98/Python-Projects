{
 "cells": [
  {
   "cell_type": "code",
   "execution_count": null,
   "id": "8a378660",
   "metadata": {},
   "outputs": [],
   "source": [
    "import turtle\n",
    "import random\n",
    "screen = turtle.Screen()                                            # Create a screen\n",
    "turtle.title('Happy Mothers Day')                           # Set title of the screen\n",
    "screen.setup(width=800,height=500)                      # Set screen width and height\n",
    "screen.bgcolor('black')                              # Set Background color of Screen\n",
    "screen.tracer(0)            # Apply tracer On Screen So screen will refresh very fast\n",
    "tt = turtle.Turtle()                  # Create a pen by which we will write any thing\n",
    "tt.hideturtle()                                                  # Hide the Pen Arrow\n",
    "             # Create List Of Random Colors\n",
    "colors_pen = ['green', 'white', 'blue', 'yellow', 'pink', 'purple', 'violet', 'gray']\n",
    "colors_fill = ['green', 'blue', 'white', 'yellow', 'pink', 'purple', 'violet', 'gray']\n",
    "tt.speed('fastest')                                       # Set tt pen Speed Very Fast\n",
    "def gg():\n",
    "    for i in range(16): # Create A loop so 16 stars will create\n",
    "        # get a random co-ordinates to creae Stars\n",
    "        x,y = random.randrange(-350,350),random.randrange(-230,230)\n",
    "        tt1 = turtle.Turtle() # create a new pen\n",
    "        tt1.color(random.choice(colors_pen)) # choose a random tt1 pen color\n",
    "        # Write happy mothers day using tt1 pen\n",
    "        tt1.write('Happy Mothers Day',font=('chiller',95,'italic bold'),align='center')\n",
    "        tt1.clear()         # clear the tt1 pen so speed will maintain\n",
    "        tt.penup()       # up the pen\n",
    "        tt.goto(x,y)     # goto in the random co-ordinates\n",
    "        tt.pendown()     # down the pen\n",
    "        tt.begin_fill()  # call the begin_fill so star is in filled with color\n",
    "        tt.color(random.choice(colors_pen)) # choose a random color for star\n",
    "        for i in range(6): # create a star\n",
    "            tt.forward(30)\n",
    "            tt.right(144)\n",
    "        tt.end_fill() # now call end fill so star will filled with color\n",
    "while True:  # create a infinite loop\n",
    "    gg() # call gg function\n",
    "    tt.clear() # clear the tt pen (stars)\n",
    "turtle.mainloop() # hold turtle screen in a loop so it will be visible"
   ]
  },
  {
   "cell_type": "code",
   "execution_count": null,
   "id": "b56f5586",
   "metadata": {},
   "outputs": [],
   "source": []
  },
  {
   "cell_type": "code",
   "execution_count": null,
   "id": "e3813f53",
   "metadata": {},
   "outputs": [],
   "source": []
  }
 ],
 "metadata": {
  "kernelspec": {
   "display_name": "Python 3",
   "language": "python",
   "name": "python3"
  }
 },
 "nbformat": 4,
 "nbformat_minor": 5
}
