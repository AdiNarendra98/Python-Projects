{
 "cells": [
  {
   "cell_type": "code",
   "execution_count": null,
   "id": "d373fde2",
   "metadata": {},
   "outputs": [],
   "source": [
    "First=[\"India\",1,2,3]\n",
    "Second=[\"Pak\"]\n",
    "\n",
    "\n",
    "\n",
    "\n"
   ]
  },
  {
   "cell_type": "markdown",
   "id": "cddae106",
   "metadata": {},
   "source": []
  },
  {
   "cell_type": "code",
   "execution_count": null,
   "id": "ccd3ff21",
   "metadata": {},
   "outputs": [],
   "source": [
    "First[2]\n",
    "\n"
   ]
  },
  {
   "cell_type": "code",
   "execution_count": null,
   "id": "e660861c",
   "metadata": {},
   "outputs": [],
   "source": [
    "First.append(4)"
   ]
  },
  {
   "cell_type": "code",
   "execution_count": null,
   "id": "710239b0",
   "metadata": {},
   "outputs": [],
   "source": [
    "First"
   ]
  },
  {
   "cell_type": "code",
   "execution_count": null,
   "id": "d27d3305",
   "metadata": {},
   "outputs": [],
   "source": [
    "First.insert(1,\"Sid\")\n"
   ]
  },
  {
   "cell_type": "code",
   "execution_count": null,
   "id": "848ca611",
   "metadata": {},
   "outputs": [],
   "source": [
    "First"
   ]
  },
  {
   "cell_type": "code",
   "execution_count": null,
   "id": "03e66016",
   "metadata": {},
   "outputs": [],
   "source": [
    "First.pop()"
   ]
  },
  {
   "cell_type": "code",
   "execution_count": null,
   "id": "8475e747",
   "metadata": {},
   "outputs": [],
   "source": [
    "First.pop(2)"
   ]
  },
  {
   "cell_type": "code",
   "execution_count": null,
   "id": "9bc12b0f",
   "metadata": {},
   "outputs": [],
   "source": [
    "print(\"My name is {}\".format(\"Adi\"))"
   ]
  },
  {
   "cell_type": "code",
   "execution_count": null,
   "id": "ba08bc43",
   "metadata": {},
   "outputs": [],
   "source": [
    "print(\"My name is {} and age is {}\".format(\"Adi\",16))"
   ]
  },
  {
   "cell_type": "code",
   "execution_count": null,
   "id": "ff338346",
   "metadata": {},
   "outputs": [],
   "source": [
    "type(First)"
   ]
  },
  {
   "cell_type": "code",
   "execution_count": 1,
   "id": "237342ef",
   "metadata": {},
   "outputs": [],
   "source": [
    "s1={\"a\",\"b\"}"
   ]
  },
  {
   "cell_type": "code",
   "execution_count": 2,
   "id": "1837961d",
   "metadata": {},
   "outputs": [
    {
     "data": {
      "text/plain": [
       "set"
      ]
     },
     "execution_count": 2,
     "metadata": {},
     "output_type": "execute_result"
    }
   ],
   "source": [
    "type(s1)"
   ]
  },
  {
   "cell_type": "code",
   "execution_count": 3,
   "id": "b67e1184",
   "metadata": {},
   "outputs": [],
   "source": [
    "s2={\"c\",\"d\"}"
   ]
  },
  {
   "cell_type": "code",
   "execution_count": 6,
   "id": "9db73429",
   "metadata": {},
   "outputs": [],
   "source": [
    "s1.add(\"D\")"
   ]
  },
  {
   "cell_type": "markdown",
   "id": "0fc18ba7",
   "metadata": {},
   "source": [
    "# "
   ]
  },
  {
   "cell_type": "code",
   "execution_count": 7,
   "id": "e612ff6b",
   "metadata": {},
   "outputs": [
    {
     "data": {
      "text/plain": [
       "{'D', 'a', 'b'}"
      ]
     },
     "execution_count": 7,
     "metadata": {},
     "output_type": "execute_result"
    }
   ],
   "source": [
    "s1"
   ]
  },
  {
   "cell_type": "markdown",
   "id": "b2e32ab6",
   "metadata": {},
   "source": []
  },
  {
   "cell_type": "code",
   "execution_count": 8,
   "id": "79dc9d32",
   "metadata": {},
   "outputs": [
    {
     "data": {
      "text/plain": [
       "{'D', 'a', 'b'}"
      ]
     },
     "execution_count": 8,
     "metadata": {},
     "output_type": "execute_result"
    }
   ],
   "source": [
    "s1.difference(s2)"
   ]
  },
  {
   "cell_type": "code",
   "execution_count": 11,
   "id": "2acfe7c6",
   "metadata": {},
   "outputs": [],
   "source": [
    "D1={\"1\":\"A\",\"2\":\"B\"}"
   ]
  },
  {
   "cell_type": "code",
   "execution_count": 14,
   "id": "42d2db54",
   "metadata": {},
   "outputs": [
    {
     "data": {
      "text/plain": [
       "{'1': 'A', '2': 'B'}"
      ]
     },
     "execution_count": 14,
     "metadata": {},
     "output_type": "execute_result"
    }
   ],
   "source": [
    "D1"
   ]
  },
  {
   "cell_type": "code",
   "execution_count": 15,
   "id": "2b3b172c",
   "metadata": {},
   "outputs": [
    {
     "data": {
      "text/plain": [
       "'A'"
      ]
     },
     "execution_count": 15,
     "metadata": {},
     "output_type": "execute_result"
    }
   ],
   "source": [
    "D1[\"1\"]"
   ]
  },
  {
   "cell_type": "code",
   "execution_count": 22,
   "id": "12a189e2",
   "metadata": {},
   "outputs": [
    {
     "name": "stdout",
     "output_type": "stream",
     "text": [
      "('1', 'A')\n",
      "('2', 'B')\n"
     ]
    }
   ],
   "source": [
    "for x in D1.items(): \n",
    " print(x)"
   ]
  },
  {
   "cell_type": "code",
   "execution_count": 27,
   "id": "295e3cab",
   "metadata": {},
   "outputs": [],
   "source": [
    "D1[\"1\"]=\"Z\""
   ]
  },
  {
   "cell_type": "code",
   "execution_count": 28,
   "id": "2f81d071",
   "metadata": {},
   "outputs": [
    {
     "data": {
      "text/plain": [
       "{'1': 'Z', '2': 'B', '4': 'S'}"
      ]
     },
     "execution_count": 28,
     "metadata": {},
     "output_type": "execute_result"
    }
   ],
   "source": [
    "D1"
   ]
  },
  {
   "cell_type": "markdown",
   "id": "24ea4a5a",
   "metadata": {},
   "source": []
  },
  {
   "cell_type": "code",
   "execution_count": 29,
   "id": "20558fb6",
   "metadata": {},
   "outputs": [],
   "source": [
    "T1=tuple()"
   ]
  },
  {
   "cell_type": "code",
   "execution_count": 33,
   "id": "2e7825de",
   "metadata": {},
   "outputs": [],
   "source": [
    "T1=('a','a',1)"
   ]
  },
  {
   "cell_type": "code",
   "execution_count": 34,
   "id": "815f89df",
   "metadata": {},
   "outputs": [
    {
     "data": {
      "text/plain": [
       "tuple"
      ]
     },
     "execution_count": 34,
     "metadata": {},
     "output_type": "execute_result"
    }
   ],
   "source": [
    "type(T1)"
   ]
  },
  {
   "cell_type": "code",
   "execution_count": 35,
   "id": "1a174792",
   "metadata": {},
   "outputs": [
    {
     "data": {
      "text/plain": [
       "('a', 'a', 1)"
      ]
     },
     "execution_count": 35,
     "metadata": {},
     "output_type": "execute_result"
    }
   ],
   "source": [
    "T1"
   ]
  },
  {
   "cell_type": "code",
   "execution_count": 36,
   "id": "69a0bd61",
   "metadata": {},
   "outputs": [
    {
     "data": {
      "text/plain": [
       "2"
      ]
     },
     "execution_count": 36,
     "metadata": {},
     "output_type": "execute_result"
    }
   ],
   "source": [
    "T1.count('a')"
   ]
  },
  {
   "cell_type": "code",
   "execution_count": null,
   "id": "cd386d43",
   "metadata": {},
   "outputs": [],
   "source": []
  }
 ],
 "metadata": {
  "kernelspec": {
   "display_name": "Python 3",
   "language": "python",
   "name": "python3"
  },
  "language_info": {
   "codemirror_mode": {
    "name": "ipython",
    "version": 3
   },
   "file_extension": ".py",
   "mimetype": "text/x-python",
   "name": "python",
   "nbconvert_exporter": "python",
   "pygments_lexer": "ipython3",
   "version": "3.8.8"
  }
 },
 "nbformat": 4,
 "nbformat_minor": 5
}
