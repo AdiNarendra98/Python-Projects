{
 "cells": [
  {
   "cell_type": "code",
   "execution_count": 23,
   "id": "1c6b65f9",
   "metadata": {},
   "outputs": [],
   "source": [
    "class Car:\n",
    "    base_price=100000 ##Class Variables\n",
    "    def __init__(self,windows,doors,power):\n",
    "        self.windows=windows\n",
    "        self.doors=doors\n",
    "        self.power=power\n",
    "    def what_base_price(self):\n",
    "        print(\"The base price is {}\".format(self.base_price))\n",
    "    @classmethod\n",
    "    def revise_base_price(cls,inflation):\n",
    "        cls.base_price=cls.base_price+cls.base_price*inflation"
   ]
  },
  {
   "cell_type": "code",
   "execution_count": 25,
   "id": "23ef9a00",
   "metadata": {},
   "outputs": [],
   "source": [
    "Car.revise_base_price(0.2)"
   ]
  },
  {
   "cell_type": "code",
   "execution_count": 27,
   "id": "d954578d",
   "metadata": {},
   "outputs": [
    {
     "data": {
      "text/plain": [
       "120000.0"
      ]
     },
     "execution_count": 27,
     "metadata": {},
     "output_type": "execute_result"
    }
   ],
   "source": [
    "Car.base_price"
   ]
  },
  {
   "cell_type": "code",
   "execution_count": 30,
   "id": "bdc3d41a",
   "metadata": {},
   "outputs": [],
   "source": [
    "Seltos=Car(4,5,1200)"
   ]
  },
  {
   "cell_type": "code",
   "execution_count": 32,
   "id": "626683b5",
   "metadata": {},
   "outputs": [],
   "source": [
    "Seltos.revise_base_price(0.5)"
   ]
  },
  {
   "cell_type": "code",
   "execution_count": 35,
   "id": "27ec239e",
   "metadata": {},
   "outputs": [
    {
     "data": {
      "text/plain": [
       "180000.0"
      ]
     },
     "execution_count": 35,
     "metadata": {},
     "output_type": "execute_result"
    }
   ],
   "source": [
    "Seltos.base_price"
   ]
  },
  {
   "cell_type": "code",
   "execution_count": null,
   "id": "b86ac985",
   "metadata": {},
   "outputs": [],
   "source": []
  }
 ],
 "metadata": {
  "kernelspec": {
   "display_name": "Python 3",
   "language": "python",
   "name": "python3"
  },
  "language_info": {
   "codemirror_mode": {
    "name": "ipython",
    "version": 3
   },
   "file_extension": ".py",
   "mimetype": "text/x-python",
   "name": "python",
   "nbconvert_exporter": "python",
   "pygments_lexer": "ipython3",
   "version": "3.8.8"
  }
 },
 "nbformat": 4,
 "nbformat_minor": 5
}
